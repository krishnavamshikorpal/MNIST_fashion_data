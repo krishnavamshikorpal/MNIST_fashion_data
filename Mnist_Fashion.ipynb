{
  "nbformat": 4,
  "nbformat_minor": 0,
  "metadata": {
    "colab": {
      "name": "Mnist Fashion.ipynb",
      "provenance": []
    },
    "kernelspec": {
      "name": "python3",
      "display_name": "Python 3"
    },
    "accelerator": "GPU"
  },
  "cells": [
    {
      "cell_type": "code",
      "metadata": {
        "id": "Epxi324z6exP",
        "colab": {
          "base_uri": "https://localhost:8080/",
          "height": 35
        },
        "outputId": "4dfaa4c2-77c2-4f6a-da9f-b4c4bc5a9050"
      },
      "source": [
        "# TensorFlow and tf.keras\n",
        "import tensorflow as tf\n",
        "from tensorflow import keras\n",
        "\n",
        "# Helper libraries\n",
        "import numpy as np\n",
        "import matplotlib.pyplot as plt\n",
        "\n",
        "print(tf.__version__)"
      ],
      "execution_count": null,
      "outputs": [
        {
          "output_type": "stream",
          "text": [
            "2.3.0\n"
          ],
          "name": "stdout"
        }
      ]
    },
    {
      "cell_type": "code",
      "metadata": {
        "id": "xbHWk0dp6rty",
        "colab": {
          "base_uri": "https://localhost:8080/",
          "height": 156
        },
        "outputId": "b36c8679-2371-4555-86d8-8fe2fc63af57"
      },
      "source": [
        "#Downloading MNIST fashion Data\n",
        "fashion_mnist = keras.datasets.fashion_mnist\n",
        "#Splitting the data to train and test\n",
        "(train_images, train_labels), (test_images, test_labels) = fashion_mnist.load_data()"
      ],
      "execution_count": null,
      "outputs": [
        {
          "output_type": "stream",
          "text": [
            "Downloading data from https://storage.googleapis.com/tensorflow/tf-keras-datasets/train-labels-idx1-ubyte.gz\n",
            "32768/29515 [=================================] - 0s 0us/step\n",
            "Downloading data from https://storage.googleapis.com/tensorflow/tf-keras-datasets/train-images-idx3-ubyte.gz\n",
            "26427392/26421880 [==============================] - 0s 0us/step\n",
            "Downloading data from https://storage.googleapis.com/tensorflow/tf-keras-datasets/t10k-labels-idx1-ubyte.gz\n",
            "8192/5148 [===============================================] - 0s 0us/step\n",
            "Downloading data from https://storage.googleapis.com/tensorflow/tf-keras-datasets/t10k-images-idx3-ubyte.gz\n",
            "4423680/4422102 [==============================] - 0s 0us/step\n"
          ],
          "name": "stdout"
        }
      ]
    },
    {
      "cell_type": "code",
      "metadata": {
        "id": "zO0DAszd7QL6"
      },
      "source": [
        "#The labels are an array of integers, ranging from 0 to 9. These correspond to the class of clothing the image represents:\n",
        "class_names = ['T-shirt/top', 'Trouser', 'Pullover', 'Dress', 'Coat',\n",
        "               'Sandal', 'Shirt', 'Sneaker', 'Bag', 'Ankle boot']"
      ],
      "execution_count": null,
      "outputs": []
    },
    {
      "cell_type": "markdown",
      "metadata": {
        "id": "fnXpGgFz9BVf"
      },
      "source": [
        "**Exploring the** **Data**"
      ]
    },
    {
      "cell_type": "code",
      "metadata": {
        "id": "7_vMHb619JRf",
        "colab": {
          "base_uri": "https://localhost:8080/",
          "height": 35
        },
        "outputId": "260272fc-51f9-4138-cefd-33b1cda3f499"
      },
      "source": [
        "print(\"shape of training data:\",train_images.shape)"
      ],
      "execution_count": null,
      "outputs": [
        {
          "output_type": "stream",
          "text": [
            "shape of training data: (60000, 28, 28)\n"
          ],
          "name": "stdout"
        }
      ]
    },
    {
      "cell_type": "code",
      "metadata": {
        "id": "R4fo-AcL9j2h",
        "colab": {
          "base_uri": "https://localhost:8080/",
          "height": 35
        },
        "outputId": "4a56e9a3-b94a-4775-aebb-d9c2f41cad20"
      },
      "source": [
        "print(\"shape of testing data:\",test_images.shape)"
      ],
      "execution_count": null,
      "outputs": [
        {
          "output_type": "stream",
          "text": [
            "shape of testing data: (10000, 28, 28)\n"
          ],
          "name": "stdout"
        }
      ]
    },
    {
      "cell_type": "code",
      "metadata": {
        "id": "cXDQexWo96DH",
        "colab": {
          "base_uri": "https://localhost:8080/",
          "height": 35
        },
        "outputId": "323c5bf3-4e7d-4039-c0f8-bb5dcd658b3e"
      },
      "source": [
        "print(\"Length of training labels:\",len(train_labels))"
      ],
      "execution_count": null,
      "outputs": [
        {
          "output_type": "stream",
          "text": [
            "Length of training labels: 60000\n"
          ],
          "name": "stdout"
        }
      ]
    },
    {
      "cell_type": "markdown",
      "metadata": {
        "id": "nMifBJIW_kxk"
      },
      "source": [
        "**Preprocess the Data**\n"
      ]
    },
    {
      "cell_type": "code",
      "metadata": {
        "id": "ekTQU3j2_u3L",
        "colab": {
          "base_uri": "https://localhost:8080/",
          "height": 269
        },
        "outputId": "cdca34ac-cf24-46a4-e546-a6205b585da3"
      },
      "source": [
        "#checking the first image of training data\n",
        "plt.figure()\n",
        "plt.imshow(train_images[9])\n",
        "plt.colorbar()\n",
        "plt.show()"
      ],
      "execution_count": null,
      "outputs": [
        {
          "output_type": "display_data",
          "data": {
            "image/png": "[encoded data removed]",
            "text/plain": [
              "<Figure size 432x288 with 2 Axes>"
            ]
          },
          "metadata": {
            "tags": [],
            "needs_background": "light"
          }
        }
      ]
    },
    {
      "cell_type": "code",
      "metadata": {
        "id": "clVObOkAAXH4"
      },
      "source": [
        "#Scaling the data\n",
        "train_images = train_images/255.0\n",
        "test_images = test_images/255.0"
      ],
      "execution_count": null,
      "outputs": []
    },
    {
      "cell_type": "code",
      "metadata": {
        "id": "HxXhC9Q5ASJY",
        "colab": {
          "base_uri": "https://localhost:8080/",
          "height": 589
        },
        "outputId": "288f9897-d420-4fc8-fc2c-157389800547"
      },
      "source": [
        "#scaled images \n",
        "plt.figure(figsize=(10, 10))\n",
        "for i in range(25):\n",
        "  plt.subplot(5, 5, i+1)\n",
        "  plt.xticks([])\n",
        "  plt.yticks([])\n",
        "  plt.imshow(train_images[i], cmap=plt.cm.binary)\n",
        "  plt.xlabel(class_names[train_labels[i]])\n",
        "plt.show()"
      ],
      "execution_count": null,
      "outputs": [
        {
          "output_type": "display_data",
          "data": {
            "image/png": "[encoded data removed]",
            "text/plain": [
              "<Figure size 720x720 with 25 Axes>"
            ]
          },
          "metadata": {
            "tags": []
          }
        }
      ]
    },
    {
      "cell_type": "markdown",
      "metadata": {
        "id": "k4ElOVXDKSqi"
      },
      "source": [
        "**Build the model**"
      ]
    },
    {
      "cell_type": "markdown",
      "metadata": {
        "id": "mLeG3m-9Kf5u"
      },
      "source": [
        "*Set up the layers*"
      ]
    },
    {
      "cell_type": "markdown",
      "metadata": {
        "id": "n0UgAJCWG26G"
      },
      "source": [
        "*Tiny Model*"
      ]
    },
    {
      "cell_type": "code",
      "metadata": {
        "id": "Oz9dhd3RKZyp"
      },
      "source": [
        "tiny_model = keras.Sequential([\n",
        "                          keras.layers.Flatten(input_shape=(28, 28)),\n",
        "                          keras.layers.Dense(16, activation=\"relu\"),\n",
        "                          keras.layers.Dense(10)\n",
        "])"
      ],
      "execution_count": null,
      "outputs": []
    },
    {
      "cell_type": "markdown",
      "metadata": {
        "id": "o7O4Lp6XHGQH"
      },
      "source": [
        "**Compile the Model**"
      ]
    },
    {
      "cell_type": "code",
      "metadata": {
        "id": "MTH_h_ZAM-9S"
      },
      "source": [
        "tiny_model.compile(optimizer='adam',\n",
        "                   loss = tf.keras.losses.SparseCategoricalCrossentropy(from_logits=True),\n",
        "                   metrics=['accuracy'])"
      ],
      "execution_count": null,
      "outputs": []
    },
    {
      "cell_type": "code",
      "metadata": {
        "id": "uD8RksYCIxCd",
        "colab": {
          "base_uri": "https://localhost:8080/",
          "height": 260
        },
        "outputId": "fd779f28-f1d6-44f5-a1bd-5793f8116ba5"
      },
      "source": [
        "tiny_model.summary()"
      ],
      "execution_count": null,
      "outputs": [
        {
          "output_type": "stream",
          "text": [
            "Model: \"sequential\"\n",
            "_________________________________________________________________\n",
            "Layer (type)                 Output Shape              Param #   \n",
            "=================================================================\n",
            "flatten (Flatten)            (None, 784)               0         \n",
            "_________________________________________________________________\n",
            "dense (Dense)                (None, 16)                12560     \n",
            "_________________________________________________________________\n",
            "dense_1 (Dense)              (None, 10)                170       \n",
            "=================================================================\n",
            "Total params: 12,730\n",
            "Trainable params: 12,730\n",
            "Non-trainable params: 0\n",
            "_________________________________________________________________\n"
          ],
          "name": "stdout"
        }
      ]
    },
    {
      "cell_type": "markdown",
      "metadata": {
        "id": "jpAqLrTFIZnp"
      },
      "source": [
        "**Train the Model**\n"
      ]
    },
    {
      "cell_type": "markdown",
      "metadata": {
        "id": "hEYi9cj7If1E"
      },
      "source": [
        "*Fit the Model*"
      ]
    },
    {
      "cell_type": "code",
      "metadata": {
        "id": "wQqZQMzEIFk5",
        "colab": {
          "base_uri": "https://localhost:8080/",
          "height": 381
        },
        "outputId": "0d691451-17a9-4d7e-d134-1af8564a6042"
      },
      "source": [
        "tiny_model.fit(train_images, train_labels, epochs=10,validation_split=.2)"
      ],
      "execution_count": null,
      "outputs": [
        {
          "output_type": "stream",
          "text": [
            "Epoch 1/10\n",
            "1500/1500 [==============================] - 3s 2ms/step - loss: 0.6590 - accuracy: 0.7734 - val_loss: 0.4764 - val_accuracy: 0.8360\n",
            "Epoch 2/10\n",
            "1500/1500 [==============================] - 3s 2ms/step - loss: 0.4517 - accuracy: 0.8441 - val_loss: 0.4427 - val_accuracy: 0.8469\n",
            "Epoch 3/10\n",
            "1500/1500 [==============================] - 3s 2ms/step - loss: 0.4188 - accuracy: 0.8547 - val_loss: 0.4359 - val_accuracy: 0.8509\n",
            "Epoch 4/10\n",
            "1500/1500 [==============================] - 3s 2ms/step - loss: 0.4006 - accuracy: 0.8600 - val_loss: 0.4105 - val_accuracy: 0.8556\n",
            "Epoch 5/10\n",
            "1500/1500 [==============================] - 3s 2ms/step - loss: 0.3885 - accuracy: 0.8640 - val_loss: 0.4031 - val_accuracy: 0.8572\n",
            "Epoch 6/10\n",
            "1500/1500 [==============================] - 3s 2ms/step - loss: 0.3791 - accuracy: 0.8664 - val_loss: 0.4105 - val_accuracy: 0.8535\n",
            "Epoch 7/10\n",
            "1500/1500 [==============================] - 3s 2ms/step - loss: 0.3706 - accuracy: 0.8697 - val_loss: 0.3871 - val_accuracy: 0.8633\n",
            "Epoch 8/10\n",
            "1500/1500 [==============================] - 3s 2ms/step - loss: 0.3651 - accuracy: 0.8712 - val_loss: 0.4052 - val_accuracy: 0.8583\n",
            "Epoch 9/10\n",
            "1500/1500 [==============================] - 3s 2ms/step - loss: 0.3595 - accuracy: 0.8715 - val_loss: 0.3885 - val_accuracy: 0.8633\n",
            "Epoch 10/10\n",
            "1500/1500 [==============================] - 3s 2ms/step - loss: 0.3565 - accuracy: 0.8736 - val_loss: 0.3918 - val_accuracy: 0.8609\n"
          ],
          "name": "stdout"
        },
        {
          "output_type": "execute_result",
          "data": {
            "text/plain": [
              "<tensorflow.python.keras.callbacks.History at 0x7faaf00dcbe0>"
            ]
          },
          "metadata": {
            "tags": []
          },
          "execution_count": 13
        }
      ]
    },
    {
      "cell_type": "code",
      "metadata": {
        "id": "7xLitumhIWhd",
        "colab": {
          "base_uri": "https://localhost:8080/",
          "height": 35
        },
        "outputId": "df90ceed-edcb-445f-8b6a-14e746cf5361"
      },
      "source": [
        "summary = tiny_model.history.history\n",
        "summary.keys()"
      ],
      "execution_count": null,
      "outputs": [
        {
          "output_type": "execute_result",
          "data": {
            "text/plain": [
              "dict_keys(['loss', 'accuracy', 'val_loss', 'val_accuracy'])"
            ]
          },
          "metadata": {
            "tags": []
          },
          "execution_count": 14
        }
      ]
    },
    {
      "cell_type": "code",
      "metadata": {
        "id": "nfoWsnOpKfhr",
        "colab": {
          "base_uri": "https://localhost:8080/",
          "height": 295
        },
        "outputId": "408cc5ac-d699-487c-81e3-dff6ec1c4c8e"
      },
      "source": [
        "loss_values = summary['loss']\n",
        "val_loss = summary['val_loss']\n",
        "epochs = range(1, 11)\n",
        "plt.plot(epochs, loss_values, 'bo', label = \"Training loss\")\n",
        "plt.plot(epochs, val_loss, 'ro', label = \"validation loss\")\n",
        "plt.title('Training & Validation loss for Tiny model')\n",
        "plt.xlabel('Epochs')\n",
        "plt.ylabel('Loss')\n",
        "plt.legend()\n",
        "plt.show()"
      ],
      "execution_count": null,
      "outputs": [
        {
          "output_type": "display_data",
          "data": {
            "image/png": "[encoded data removed]",
            "text/plain": [
              "<Figure size 432x288 with 1 Axes>"
            ]
          },
          "metadata": {
            "tags": [],
            "needs_background": "light"
          }
        }
      ]
    },
    {
      "cell_type": "code",
      "metadata": {
        "id": "gyypDkl8Kq8z",
        "colab": {
          "base_uri": "https://localhost:8080/",
          "height": 69
        },
        "outputId": "f141910e-0f9b-4e7a-bddf-85e7b5f1b854"
      },
      "source": [
        "test_loss, acc_scr = tiny_model.evaluate(test_images, test_labels, verbose = 2)\n",
        "print(\"\\nTest Accuracy:\", acc_scr)"
      ],
      "execution_count": null,
      "outputs": [
        {
          "output_type": "stream",
          "text": [
            "313/313 - 1s - loss: 0.4205 - accuracy: 0.8519\n",
            "\n",
            "Test Accuracy: 0.8518999814987183\n"
          ],
          "name": "stdout"
        }
      ]
    },
    {
      "cell_type": "markdown",
      "metadata": {
        "id": "tFrrknsFKClF"
      },
      "source": [
        "**Predictions using Tiny Model**"
      ]
    },
    {
      "cell_type": "code",
      "metadata": {
        "id": "1MSmmvonICo_"
      },
      "source": [
        "probability_model = tf.keras.Sequential([tiny_model,\n",
        "                                         tf.keras.layers.Softmax()])"
      ],
      "execution_count": null,
      "outputs": []
    },
    {
      "cell_type": "code",
      "metadata": {
        "id": "YSlJzydbK5u9"
      },
      "source": [
        "predictions = probability_model.predict(test_images)"
      ],
      "execution_count": null,
      "outputs": []
    },
    {
      "cell_type": "code",
      "metadata": {
        "id": "22_IpQl8LNA1",
        "colab": {
          "base_uri": "https://localhost:8080/",
          "height": 69
        },
        "outputId": "3aed45de-feaf-4464-ce96-594f3fcf4862"
      },
      "source": [
        "predictions[0]"
      ],
      "execution_count": null,
      "outputs": [
        {
          "output_type": "execute_result",
          "data": {
            "text/plain": [
              "array([2.7483104e-06, 1.7249336e-05, 1.9420925e-06, 3.5054850e-06,\n",
              "       1.6838736e-05, 2.8943163e-01, 1.7569491e-04, 7.6312400e-02,\n",
              "       2.2452453e-03, 6.3179272e-01], dtype=float32)"
            ]
          },
          "metadata": {
            "tags": []
          },
          "execution_count": 19
        }
      ]
    },
    {
      "cell_type": "code",
      "metadata": {
        "id": "esXqIamHLRl7",
        "colab": {
          "base_uri": "https://localhost:8080/",
          "height": 35
        },
        "outputId": "4e27074c-40ce-494f-c2f0-f19123e35c81"
      },
      "source": [
        "np.argmax(predictions[0])"
      ],
      "execution_count": null,
      "outputs": [
        {
          "output_type": "execute_result",
          "data": {
            "text/plain": [
              "9"
            ]
          },
          "metadata": {
            "tags": []
          },
          "execution_count": 20
        }
      ]
    },
    {
      "cell_type": "code",
      "metadata": {
        "id": "RzInOd0FLcFM",
        "colab": {
          "base_uri": "https://localhost:8080/",
          "height": 35
        },
        "outputId": "59f626ac-610a-4112-dcef-bb595b06c111"
      },
      "source": [
        "test_labels[0]"
      ],
      "execution_count": null,
      "outputs": [
        {
          "output_type": "execute_result",
          "data": {
            "text/plain": [
              "9"
            ]
          },
          "metadata": {
            "tags": []
          },
          "execution_count": 21
        }
      ]
    },
    {
      "cell_type": "markdown",
      "metadata": {
        "id": "c7tZOjR6Uhvi"
      },
      "source": [
        "**Add weight Regularizers**"
      ]
    },
    {
      "cell_type": "code",
      "metadata": {
        "id": "uSYDvzYuUqrF"
      },
      "source": [
        "from tensorflow.keras import regularizers"
      ],
      "execution_count": null,
      "outputs": []
    },
    {
      "cell_type": "code",
      "metadata": {
        "id": "FWIVu-wKRu5i"
      },
      "source": [
        "tiny_model2 = keras.Sequential([\n",
        "                          keras.layers.Flatten(input_shape=(28, 28)),\n",
        "                          keras.layers.Dense(16, activation=\"relu\",\n",
        "                                             kernel_regularizer=regularizers.l1_l2(0.1)),\n",
        "                          keras.layers.Dense(10)\n",
        "])"
      ],
      "execution_count": null,
      "outputs": []
    },
    {
      "cell_type": "code",
      "metadata": {
        "id": "Nt17BhdMYzKr"
      },
      "source": [
        "tiny_model2.compile(optimizer='adam',\n",
        "                   loss = tf.keras.losses.SparseCategoricalCrossentropy(from_logits=True),\n",
        "                   metrics=['accuracy'])"
      ],
      "execution_count": null,
      "outputs": []
    },
    {
      "cell_type": "code",
      "metadata": {
        "id": "Jm6Obqu2VKyT",
        "colab": {
          "base_uri": "https://localhost:8080/",
          "height": 381
        },
        "outputId": "cf5eaa35-b89d-4a54-a5d0-73c617ec6913"
      },
      "source": [
        "tiny_model2.fit(train_images, train_labels, epochs=10,validation_split=.2)"
      ],
      "execution_count": null,
      "outputs": [
        {
          "output_type": "stream",
          "text": [
            "Epoch 1/10\n",
            "1500/1500 [==============================] - 3s 2ms/step - loss: 3.4522 - accuracy: 0.2260 - val_loss: 2.2148 - val_accuracy: 0.2712\n",
            "Epoch 2/10\n",
            "1500/1500 [==============================] - 3s 2ms/step - loss: 2.1573 - accuracy: 0.3839 - val_loss: 2.0498 - val_accuracy: 0.4829\n",
            "Epoch 3/10\n",
            "1500/1500 [==============================] - 3s 2ms/step - loss: 1.9705 - accuracy: 0.4969 - val_loss: 1.9053 - val_accuracy: 0.5038\n",
            "Epoch 4/10\n",
            "1500/1500 [==============================] - 3s 2ms/step - loss: 1.8814 - accuracy: 0.5248 - val_loss: 1.8513 - val_accuracy: 0.5660\n",
            "Epoch 5/10\n",
            "1500/1500 [==============================] - 3s 2ms/step - loss: 1.8230 - accuracy: 0.5569 - val_loss: 1.7904 - val_accuracy: 0.5761\n",
            "Epoch 6/10\n",
            "1500/1500 [==============================] - 3s 2ms/step - loss: 1.7816 - accuracy: 0.5887 - val_loss: 1.8154 - val_accuracy: 0.5668\n",
            "Epoch 7/10\n",
            "1500/1500 [==============================] - 3s 2ms/step - loss: 1.7406 - accuracy: 0.6122 - val_loss: 1.7110 - val_accuracy: 0.6332\n",
            "Epoch 8/10\n",
            "1500/1500 [==============================] - 3s 2ms/step - loss: 1.7008 - accuracy: 0.6325 - val_loss: 1.6594 - val_accuracy: 0.6456\n",
            "Epoch 9/10\n",
            "1500/1500 [==============================] - 3s 2ms/step - loss: 1.6695 - accuracy: 0.6456 - val_loss: 1.6707 - val_accuracy: 0.6398\n",
            "Epoch 10/10\n",
            "1500/1500 [==============================] - 3s 2ms/step - loss: 1.6429 - accuracy: 0.6539 - val_loss: 1.5943 - val_accuracy: 0.6873\n"
          ],
          "name": "stdout"
        },
        {
          "output_type": "execute_result",
          "data": {
            "text/plain": [
              "<tensorflow.python.keras.callbacks.History at 0x7faaaa48a9b0>"
            ]
          },
          "metadata": {
            "tags": []
          },
          "execution_count": 25
        }
      ]
    },
    {
      "cell_type": "code",
      "metadata": {
        "id": "PKgHY3hdYrdA",
        "colab": {
          "base_uri": "https://localhost:8080/",
          "height": 35
        },
        "outputId": "09b5bd1d-8a9e-4ea7-c97f-6cfe635519f0"
      },
      "source": [
        "summary2 = tiny_model2.history.history\n",
        "summary2.keys()"
      ],
      "execution_count": null,
      "outputs": [
        {
          "output_type": "execute_result",
          "data": {
            "text/plain": [
              "dict_keys(['loss', 'accuracy', 'val_loss', 'val_accuracy'])"
            ]
          },
          "metadata": {
            "tags": []
          },
          "execution_count": 26
        }
      ]
    },
    {
      "cell_type": "code",
      "metadata": {
        "id": "VwRcQ4ZpZSPV",
        "colab": {
          "base_uri": "https://localhost:8080/",
          "height": 295
        },
        "outputId": "27552b73-7dbe-4ad9-83e5-29f307006d1d"
      },
      "source": [
        "loss_values = summary2['loss']\n",
        "val_loss = summary2['val_loss']\n",
        "epochs = range(1, 11)\n",
        "plt.plot(epochs, loss_values, 'bo', label = \"Training loss\")\n",
        "plt.plot(epochs, val_loss, 'ro', label = \"validation loss\")\n",
        "plt.title('Training & Validation loss for Tiny model')\n",
        "plt.xlabel('Epochs')\n",
        "plt.ylabel('Loss')\n",
        "plt.legend()\n",
        "plt.show()"
      ],
      "execution_count": null,
      "outputs": [
        {
          "output_type": "display_data",
          "data": {
            "image/png": "[encoded data removed]",
            "text/plain": [
              "<Figure size 432x288 with 1 Axes>"
            ]
          },
          "metadata": {
            "tags": [],
            "needs_background": "light"
          }
        }
      ]
    },
    {
      "cell_type": "code",
      "metadata": {
        "id": "bwHsNou9hcs5",
        "colab": {
          "base_uri": "https://localhost:8080/",
          "height": 69
        },
        "outputId": "9751be57-0928-4194-cdb1-c948794b2769"
      },
      "source": [
        "test_loss, acc_scr = tiny_model2.evaluate(test_images, test_labels, verbose = 2)\n",
        "print(\"\\nTest Accuracy after Regularization:\", acc_scr)"
      ],
      "execution_count": null,
      "outputs": [
        {
          "output_type": "stream",
          "text": [
            "313/313 - 1s - loss: 1.5992 - accuracy: 0.6786\n",
            "\n",
            "Test Accuracy after Regularization: 0.678600013256073\n"
          ],
          "name": "stdout"
        }
      ]
    },
    {
      "cell_type": "code",
      "metadata": {
        "id": "TA5gpxXohr6C"
      },
      "source": [
        "probability_model_t = tf.keras.Sequential([tiny_model2,\n",
        "                                         tf.keras.layers.Softmax()])"
      ],
      "execution_count": null,
      "outputs": []
    },
    {
      "cell_type": "code",
      "metadata": {
        "id": "fepAYRGGh6B_"
      },
      "source": [
        "predictions = probability_model_t.predict(test_images)"
      ],
      "execution_count": null,
      "outputs": []
    },
    {
      "cell_type": "code",
      "metadata": {
        "id": "VDZek3juiWfb",
        "colab": {
          "base_uri": "https://localhost:8080/",
          "height": 69
        },
        "outputId": "c5786642-9795-42a6-a4db-ea17b4246f66"
      },
      "source": [
        "predictions[1]"
      ],
      "execution_count": null,
      "outputs": [
        {
          "output_type": "execute_result",
          "data": {
            "text/plain": [
              "array([2.3126084e-02, 5.4869917e-04, 3.6946696e-01, 3.6328470e-03,\n",
              "       3.7309730e-01, 2.0120389e-05, 1.5654863e-01, 1.3366981e-07,\n",
              "       7.3495649e-02, 6.3638712e-05], dtype=float32)"
            ]
          },
          "metadata": {
            "tags": []
          },
          "execution_count": 31
        }
      ]
    },
    {
      "cell_type": "code",
      "metadata": {
        "id": "ty4bO3zXidON",
        "colab": {
          "base_uri": "https://localhost:8080/",
          "height": 35
        },
        "outputId": "55999ace-b8d2-4177-eac6-3f928d9d3022"
      },
      "source": [
        "np.argmax(predictions[4])"
      ],
      "execution_count": null,
      "outputs": [
        {
          "output_type": "execute_result",
          "data": {
            "text/plain": [
              "0"
            ]
          },
          "metadata": {
            "tags": []
          },
          "execution_count": 69
        }
      ]
    },
    {
      "cell_type": "code",
      "metadata": {
        "id": "5iOD703oij6h",
        "colab": {
          "base_uri": "https://localhost:8080/",
          "height": 35
        },
        "outputId": "4ca8d1ac-f8a3-4f64-ea9d-7c015c7eeafd"
      },
      "source": [
        "test_labels[4]"
      ],
      "execution_count": null,
      "outputs": [
        {
          "output_type": "execute_result",
          "data": {
            "text/plain": [
              "6"
            ]
          },
          "metadata": {
            "tags": []
          },
          "execution_count": 70
        }
      ]
    },
    {
      "cell_type": "markdown",
      "metadata": {
        "id": "3wCPvoy1chPe"
      },
      "source": [
        "*Medium Model*"
      ]
    },
    {
      "cell_type": "code",
      "metadata": {
        "id": "gxAgPGinZcu7"
      },
      "source": [
        "medium_model = keras.Sequential([\n",
        "                          keras.layers.Flatten(input_shape=(28, 28)),\n",
        "                          keras.layers.Dense(128, activation=\"relu\"),                                           \n",
        "                          keras.layers.Dense(10)\n",
        "])"
      ],
      "execution_count": null,
      "outputs": []
    },
    {
      "cell_type": "code",
      "metadata": {
        "id": "WJUwVBp7dDlJ"
      },
      "source": [
        "medium_model.compile(optimizer='adam',\n",
        "                   loss = tf.keras.losses.SparseCategoricalCrossentropy(from_logits=True),\n",
        "                   metrics=['accuracy'])"
      ],
      "execution_count": null,
      "outputs": []
    },
    {
      "cell_type": "code",
      "metadata": {
        "id": "4L6MTnvC6T4-",
        "colab": {
          "base_uri": "https://localhost:8080/",
          "height": 260
        },
        "outputId": "9923de22-aca0-4dc7-e31f-d0509a3921df"
      },
      "source": [
        "medium_model.summary()"
      ],
      "execution_count": null,
      "outputs": [
        {
          "output_type": "stream",
          "text": [
            "Model: \"sequential_4\"\n",
            "_________________________________________________________________\n",
            "Layer (type)                 Output Shape              Param #   \n",
            "=================================================================\n",
            "flatten_2 (Flatten)          (None, 784)               0         \n",
            "_________________________________________________________________\n",
            "dense_4 (Dense)              (None, 128)               100480    \n",
            "_________________________________________________________________\n",
            "dense_5 (Dense)              (None, 10)                1290      \n",
            "=================================================================\n",
            "Total params: 101,770\n",
            "Trainable params: 101,770\n",
            "Non-trainable params: 0\n",
            "_________________________________________________________________\n"
          ],
          "name": "stdout"
        }
      ]
    },
    {
      "cell_type": "code",
      "metadata": {
        "id": "BGiogNPcdlFk",
        "colab": {
          "base_uri": "https://localhost:8080/",
          "height": 381
        },
        "outputId": "024dfd97-501e-4ba4-b35e-c7ed345d29ad"
      },
      "source": [
        "medium_model.fit(train_images, train_labels, epochs=10,validation_split=.2)"
      ],
      "execution_count": null,
      "outputs": [
        {
          "output_type": "stream",
          "text": [
            "Epoch 1/10\n",
            "1500/1500 [==============================] - 3s 2ms/step - loss: 0.5147 - accuracy: 0.8182 - val_loss: 0.4117 - val_accuracy: 0.8519\n",
            "Epoch 2/10\n",
            "1500/1500 [==============================] - 3s 2ms/step - loss: 0.3831 - accuracy: 0.8621 - val_loss: 0.3711 - val_accuracy: 0.8668\n",
            "Epoch 3/10\n",
            "1500/1500 [==============================] - 3s 2ms/step - loss: 0.3417 - accuracy: 0.8733 - val_loss: 0.3767 - val_accuracy: 0.8631\n",
            "Epoch 4/10\n",
            "1500/1500 [==============================] - 3s 2ms/step - loss: 0.3185 - accuracy: 0.8833 - val_loss: 0.3779 - val_accuracy: 0.8644\n",
            "Epoch 5/10\n",
            "1500/1500 [==============================] - 3s 2ms/step - loss: 0.2981 - accuracy: 0.8899 - val_loss: 0.3346 - val_accuracy: 0.8828\n",
            "Epoch 6/10\n",
            "1500/1500 [==============================] - 3s 2ms/step - loss: 0.2822 - accuracy: 0.8960 - val_loss: 0.3488 - val_accuracy: 0.8737\n",
            "Epoch 7/10\n",
            "1500/1500 [==============================] - 3s 2ms/step - loss: 0.2689 - accuracy: 0.9012 - val_loss: 0.3297 - val_accuracy: 0.8804\n",
            "Epoch 8/10\n",
            "1500/1500 [==============================] - 3s 2ms/step - loss: 0.2608 - accuracy: 0.9023 - val_loss: 0.3148 - val_accuracy: 0.8898\n",
            "Epoch 9/10\n",
            "1500/1500 [==============================] - 3s 2ms/step - loss: 0.2482 - accuracy: 0.9072 - val_loss: 0.3307 - val_accuracy: 0.8825\n",
            "Epoch 10/10\n",
            "1500/1500 [==============================] - 3s 2ms/step - loss: 0.2380 - accuracy: 0.9111 - val_loss: 0.3144 - val_accuracy: 0.8925\n"
          ],
          "name": "stdout"
        },
        {
          "output_type": "execute_result",
          "data": {
            "text/plain": [
              "<tensorflow.python.keras.callbacks.History at 0x7faaaa230b38>"
            ]
          },
          "metadata": {
            "tags": []
          },
          "execution_count": 36
        }
      ]
    },
    {
      "cell_type": "code",
      "metadata": {
        "id": "C9CoPoR6dshP",
        "colab": {
          "base_uri": "https://localhost:8080/",
          "height": 35
        },
        "outputId": "5a97a1d5-28fd-48c5-ea19-19268bec7884"
      },
      "source": [
        "summary_m = medium_model.history.history\n",
        "summary_m.keys()"
      ],
      "execution_count": null,
      "outputs": [
        {
          "output_type": "execute_result",
          "data": {
            "text/plain": [
              "dict_keys(['loss', 'accuracy', 'val_loss', 'val_accuracy'])"
            ]
          },
          "metadata": {
            "tags": []
          },
          "execution_count": 37
        }
      ]
    },
    {
      "cell_type": "code",
      "metadata": {
        "id": "wmOStMyheCIC",
        "colab": {
          "base_uri": "https://localhost:8080/",
          "height": 295
        },
        "outputId": "67d59f1b-0a3c-4537-cc06-564c0adc57f3"
      },
      "source": [
        "loss_values = summary_m['loss']\n",
        "val_loss = summary_m['val_loss']\n",
        "epochs = range(1, 11)\n",
        "plt.plot(epochs, loss_values, 'bo', label = \"Training loss\")\n",
        "plt.plot(epochs, val_loss, 'ro', label = \"validation loss\")\n",
        "plt.title('Training & Validation loss for Tiny model')\n",
        "plt.xlabel('Epochs')\n",
        "plt.ylabel('Loss')\n",
        "plt.legend()\n",
        "plt.show()"
      ],
      "execution_count": null,
      "outputs": [
        {
          "output_type": "display_data",
          "data": {
            "image/png": "[encoded data removed]",
            "text/plain": [
              "<Figure size 432x288 with 1 Axes>"
            ]
          },
          "metadata": {
            "tags": [],
            "needs_background": "light"
          }
        }
      ]
    },
    {
      "cell_type": "code",
      "metadata": {
        "id": "nXNOg1w6jOZD",
        "colab": {
          "base_uri": "https://localhost:8080/",
          "height": 69
        },
        "outputId": "e351a0f1-3e0d-4088-a780-baea46ea782a"
      },
      "source": [
        "test_loss, acc_scr = medium_model.evaluate(test_images, test_labels, verbose = 2)\n",
        "print(\"\\nTest Accuracy:\", acc_scr)"
      ],
      "execution_count": null,
      "outputs": [
        {
          "output_type": "stream",
          "text": [
            "313/313 - 1s - loss: 0.3402 - accuracy: 0.8844\n",
            "\n",
            "Test Accuracy: 0.8844000101089478\n"
          ],
          "name": "stdout"
        }
      ]
    },
    {
      "cell_type": "code",
      "metadata": {
        "id": "B9HuoInP-TEZ"
      },
      "source": [
        "probability_model_m = tf.keras.Sequential([medium_model,\n",
        "                                         tf.keras.layers.Softmax()])"
      ],
      "execution_count": null,
      "outputs": []
    },
    {
      "cell_type": "code",
      "metadata": {
        "id": "hofP7E32-j7I"
      },
      "source": [
        "predictions_m = probability_model_m(test_images)"
      ],
      "execution_count": null,
      "outputs": []
    },
    {
      "cell_type": "code",
      "metadata": {
        "id": "9ME9h0n2-uyC",
        "colab": {
          "base_uri": "https://localhost:8080/",
          "height": 35
        },
        "outputId": "c9c48b69-62df-4c96-8363-0dcb203b684b"
      },
      "source": [
        "np.argmax(predictions_m[3])"
      ],
      "execution_count": null,
      "outputs": [
        {
          "output_type": "execute_result",
          "data": {
            "text/plain": [
              "1"
            ]
          },
          "metadata": {
            "tags": []
          },
          "execution_count": 79
        }
      ]
    },
    {
      "cell_type": "code",
      "metadata": {
        "id": "Uv2Nl8MV-9Zl",
        "colab": {
          "base_uri": "https://localhost:8080/",
          "height": 35
        },
        "outputId": "958b9d6a-308c-48c6-a9d2-52920c0782bb"
      },
      "source": [
        "test_labels[3]"
      ],
      "execution_count": null,
      "outputs": [
        {
          "output_type": "execute_result",
          "data": {
            "text/plain": [
              "1"
            ]
          },
          "metadata": {
            "tags": []
          },
          "execution_count": 80
        }
      ]
    },
    {
      "cell_type": "code",
      "metadata": {
        "id": "xUljlNzAeJ0u"
      },
      "source": [
        "medium_model2 = keras.Sequential([\n",
        "                          keras.layers.Flatten(input_shape=(28, 28)),\n",
        "                          keras.layers.Dense(128, activation=\"relu\",\n",
        "                                             kernel_regularizer=regularizers.l2(0.1)),\n",
        "                          keras.layers.Dense(10)\n",
        "])"
      ],
      "execution_count": null,
      "outputs": []
    },
    {
      "cell_type": "code",
      "metadata": {
        "id": "XxMRO8HCeW17"
      },
      "source": [
        "medium_model2.compile(optimizer='adam',\n",
        "                   loss = tf.keras.losses.SparseCategoricalCrossentropy(from_logits=True),\n",
        "                   metrics=['accuracy'])"
      ],
      "execution_count": null,
      "outputs": []
    },
    {
      "cell_type": "code",
      "metadata": {
        "id": "jgMU6PxMefDo",
        "colab": {
          "base_uri": "https://localhost:8080/",
          "height": 381
        },
        "outputId": "3b2c2c02-7147-4a2b-b726-edf2bbb99954"
      },
      "source": [
        "medium_model2.fit(train_images, train_labels, epochs=10,validation_split=.2)"
      ],
      "execution_count": null,
      "outputs": [
        {
          "output_type": "stream",
          "text": [
            "Epoch 1/10\n",
            "1500/1500 [==============================] - 3s 2ms/step - loss: 1.4254 - accuracy: 0.7331 - val_loss: 0.8570 - val_accuracy: 0.7684\n",
            "Epoch 2/10\n",
            "1500/1500 [==============================] - 3s 2ms/step - loss: 0.9029 - accuracy: 0.7467 - val_loss: 0.9160 - val_accuracy: 0.7518\n",
            "Epoch 3/10\n",
            "1500/1500 [==============================] - 3s 2ms/step - loss: 0.8668 - accuracy: 0.7553 - val_loss: 0.8052 - val_accuracy: 0.7728\n",
            "Epoch 4/10\n",
            "1500/1500 [==============================] - 3s 2ms/step - loss: 0.8418 - accuracy: 0.7602 - val_loss: 0.7909 - val_accuracy: 0.7805\n",
            "Epoch 5/10\n",
            "1500/1500 [==============================] - 3s 2ms/step - loss: 0.8148 - accuracy: 0.7704 - val_loss: 0.7864 - val_accuracy: 0.7849\n",
            "Epoch 6/10\n",
            "1500/1500 [==============================] - 4s 2ms/step - loss: 0.8013 - accuracy: 0.7735 - val_loss: 0.8156 - val_accuracy: 0.7476\n",
            "Epoch 7/10\n",
            "1500/1500 [==============================] - 3s 2ms/step - loss: 0.7885 - accuracy: 0.7773 - val_loss: 0.7629 - val_accuracy: 0.7885\n",
            "Epoch 8/10\n",
            "1500/1500 [==============================] - 4s 2ms/step - loss: 0.7726 - accuracy: 0.7819 - val_loss: 0.7760 - val_accuracy: 0.7790\n",
            "Epoch 9/10\n",
            "1500/1500 [==============================] - 3s 2ms/step - loss: 0.7725 - accuracy: 0.7826 - val_loss: 0.7207 - val_accuracy: 0.8009\n",
            "Epoch 10/10\n",
            "1500/1500 [==============================] - 3s 2ms/step - loss: 0.7564 - accuracy: 0.7854 - val_loss: 0.7544 - val_accuracy: 0.7834\n"
          ],
          "name": "stdout"
        },
        {
          "output_type": "execute_result",
          "data": {
            "text/plain": [
              "<tensorflow.python.keras.callbacks.History at 0x7faaaa5a8cf8>"
            ]
          },
          "metadata": {
            "tags": []
          },
          "execution_count": 42
        }
      ]
    },
    {
      "cell_type": "code",
      "metadata": {
        "id": "yLMct35ZelEF",
        "colab": {
          "base_uri": "https://localhost:8080/",
          "height": 35
        },
        "outputId": "e4a5cbdd-80d9-4f1e-b8b1-a03011a8a030"
      },
      "source": [
        "summary_m2 = medium_model2.history.history\n",
        "summary_m2.keys()"
      ],
      "execution_count": null,
      "outputs": [
        {
          "output_type": "execute_result",
          "data": {
            "text/plain": [
              "dict_keys(['loss', 'accuracy', 'val_loss', 'val_accuracy'])"
            ]
          },
          "metadata": {
            "tags": []
          },
          "execution_count": 43
        }
      ]
    },
    {
      "cell_type": "code",
      "metadata": {
        "id": "w0awVGAcfbda",
        "colab": {
          "base_uri": "https://localhost:8080/",
          "height": 295
        },
        "outputId": "d027d0f5-297d-4ac6-ce44-ca82e625d666"
      },
      "source": [
        "loss_values = summary_m2['loss']\n",
        "val_loss = summary_m2['val_loss']\n",
        "epochs = range(1, 11)\n",
        "plt.plot(epochs, loss_values, 'bo', label = \"Training loss\")\n",
        "plt.plot(epochs, val_loss, 'ro', label = \"validation loss\")\n",
        "plt.title('Training & Validation loss for Tiny model')\n",
        "plt.xlabel('Epochs')\n",
        "plt.ylabel('Loss')\n",
        "plt.legend()\n",
        "plt.show()"
      ],
      "execution_count": null,
      "outputs": [
        {
          "output_type": "display_data",
          "data": {
            "image/png": "[encoded data removed]",
            "text/plain": [
              "<Figure size 432x288 with 1 Axes>"
            ]
          },
          "metadata": {
            "tags": [],
            "needs_background": "light"
          }
        }
      ]
    },
    {
      "cell_type": "code",
      "metadata": {
        "id": "rg84r-tHfgmy",
        "colab": {
          "base_uri": "https://localhost:8080/",
          "height": 69
        },
        "outputId": "0e91e6cf-1818-48cb-a491-5037a5dbc85e"
      },
      "source": [
        "test_loss, acc_scr = medium_model2.evaluate(test_images, test_labels, verbose = 2)\n",
        "print(\"\\nTest Accuracy after Regularization:\", acc_scr)"
      ],
      "execution_count": null,
      "outputs": [
        {
          "output_type": "stream",
          "text": [
            "313/313 - 1s - loss: 0.7794 - accuracy: 0.7737\n",
            "\n",
            "Test Accuracy after Regularization: 0.7736999988555908\n"
          ],
          "name": "stdout"
        }
      ]
    },
    {
      "cell_type": "code",
      "metadata": {
        "id": "ON-IO3VbjkDS"
      },
      "source": [
        "probability_model_m1 = tf.keras.Sequential([medium_model2,\n",
        "                                         tf.keras.layers.Softmax()])"
      ],
      "execution_count": null,
      "outputs": []
    },
    {
      "cell_type": "code",
      "metadata": {
        "id": "V-JaQmW8_fAM"
      },
      "source": [
        "predictions_m2 = probability_model_m1(test_images)"
      ],
      "execution_count": null,
      "outputs": []
    },
    {
      "cell_type": "code",
      "metadata": {
        "id": "R8ITJ5OA_nlU",
        "colab": {
          "base_uri": "https://localhost:8080/",
          "height": 35
        },
        "outputId": "83ab4dfd-898f-4050-a533-55dee838cd95"
      },
      "source": [
        "np.argmax(predictions_m2[121])"
      ],
      "execution_count": null,
      "outputs": [
        {
          "output_type": "execute_result",
          "data": {
            "text/plain": [
              "0"
            ]
          },
          "metadata": {
            "tags": []
          },
          "execution_count": 135
        }
      ]
    },
    {
      "cell_type": "code",
      "metadata": {
        "id": "cXsCcSvb_usH",
        "colab": {
          "base_uri": "https://localhost:8080/",
          "height": 35
        },
        "outputId": "d7b68e80-2d21-4bb1-aec5-909a44763e15"
      },
      "source": [
        "test_labels[121]"
      ],
      "execution_count": null,
      "outputs": [
        {
          "output_type": "execute_result",
          "data": {
            "text/plain": [
              "0"
            ]
          },
          "metadata": {
            "tags": []
          },
          "execution_count": 136
        }
      ]
    },
    {
      "cell_type": "markdown",
      "metadata": {
        "id": "3w4AZP8hjzQV"
      },
      "source": [
        "**Large Model**"
      ]
    },
    {
      "cell_type": "code",
      "metadata": {
        "id": "kFAOtJLKj2KR"
      },
      "source": [
        "large_model = keras.Sequential([\n",
        "                          keras.layers.Flatten(input_shape=(28, 28)),\n",
        "                          keras.layers.Dense(512, activation=\"relu\"),                                           \n",
        "                          keras.layers.Dense(10)\n",
        "])"
      ],
      "execution_count": null,
      "outputs": []
    },
    {
      "cell_type": "code",
      "metadata": {
        "id": "fsrsMfVhj_en"
      },
      "source": [
        "large_model.compile(optimizer='adam',\n",
        "                   loss = tf.keras.losses.SparseCategoricalCrossentropy(from_logits=True),\n",
        "                   metrics=['accuracy'])"
      ],
      "execution_count": null,
      "outputs": []
    },
    {
      "cell_type": "code",
      "metadata": {
        "id": "UbZn4ZZd6JgF",
        "colab": {
          "base_uri": "https://localhost:8080/",
          "height": 260
        },
        "outputId": "4bdecea5-393b-45a1-e371-ff32973ca481"
      },
      "source": [
        "large_model.summary()"
      ],
      "execution_count": null,
      "outputs": [
        {
          "output_type": "stream",
          "text": [
            "Model: \"sequential_6\"\n",
            "_________________________________________________________________\n",
            "Layer (type)                 Output Shape              Param #   \n",
            "=================================================================\n",
            "flatten_4 (Flatten)          (None, 784)               0         \n",
            "_________________________________________________________________\n",
            "dense_8 (Dense)              (None, 512)               401920    \n",
            "_________________________________________________________________\n",
            "dense_9 (Dense)              (None, 10)                5130      \n",
            "=================================================================\n",
            "Total params: 407,050\n",
            "Trainable params: 407,050\n",
            "Non-trainable params: 0\n",
            "_________________________________________________________________\n"
          ],
          "name": "stdout"
        }
      ]
    },
    {
      "cell_type": "code",
      "metadata": {
        "id": "ZF3_gJEjkOS8",
        "colab": {
          "base_uri": "https://localhost:8080/",
          "height": 381
        },
        "outputId": "6299852a-a769-4525-ea3b-b8279b045296"
      },
      "source": [
        "large_model.fit(train_images, train_labels, epochs=10,validation_split=.2)"
      ],
      "execution_count": null,
      "outputs": [
        {
          "output_type": "stream",
          "text": [
            "Epoch 1/10\n",
            "1500/1500 [==============================] - 3s 2ms/step - loss: 0.4937 - accuracy: 0.8233 - val_loss: 0.3984 - val_accuracy: 0.8576\n",
            "Epoch 2/10\n",
            "1500/1500 [==============================] - 3s 2ms/step - loss: 0.3718 - accuracy: 0.8638 - val_loss: 0.3770 - val_accuracy: 0.8666\n",
            "Epoch 3/10\n",
            "1500/1500 [==============================] - 3s 2ms/step - loss: 0.3310 - accuracy: 0.8764 - val_loss: 0.3484 - val_accuracy: 0.8721\n",
            "Epoch 4/10\n",
            "1500/1500 [==============================] - 3s 2ms/step - loss: 0.3069 - accuracy: 0.8871 - val_loss: 0.3380 - val_accuracy: 0.8764\n",
            "Epoch 5/10\n",
            "1500/1500 [==============================] - 3s 2ms/step - loss: 0.2874 - accuracy: 0.8927 - val_loss: 0.3272 - val_accuracy: 0.8850\n",
            "Epoch 6/10\n",
            "1500/1500 [==============================] - 3s 2ms/step - loss: 0.2709 - accuracy: 0.8997 - val_loss: 0.3331 - val_accuracy: 0.8823\n",
            "Epoch 7/10\n",
            "1500/1500 [==============================] - 3s 2ms/step - loss: 0.2559 - accuracy: 0.9041 - val_loss: 0.3203 - val_accuracy: 0.8852\n",
            "Epoch 8/10\n",
            "1500/1500 [==============================] - 3s 2ms/step - loss: 0.2466 - accuracy: 0.9081 - val_loss: 0.3070 - val_accuracy: 0.8910\n",
            "Epoch 9/10\n",
            "1500/1500 [==============================] - 3s 2ms/step - loss: 0.2348 - accuracy: 0.9108 - val_loss: 0.3134 - val_accuracy: 0.8903\n",
            "Epoch 10/10\n",
            "1500/1500 [==============================] - 3s 2ms/step - loss: 0.2239 - accuracy: 0.9169 - val_loss: 0.3339 - val_accuracy: 0.8852\n"
          ],
          "name": "stdout"
        },
        {
          "output_type": "execute_result",
          "data": {
            "text/plain": [
              "<tensorflow.python.keras.callbacks.History at 0x7faaaa1804a8>"
            ]
          },
          "metadata": {
            "tags": []
          },
          "execution_count": 48
        }
      ]
    },
    {
      "cell_type": "code",
      "metadata": {
        "id": "jK_MQ55OkUYq",
        "colab": {
          "base_uri": "https://localhost:8080/",
          "height": 35
        },
        "outputId": "118b4d25-b0c3-432c-f7c5-e34b05d6d276"
      },
      "source": [
        "summary_l = large_model.history.history\n",
        "summary_l.keys()"
      ],
      "execution_count": null,
      "outputs": [
        {
          "output_type": "execute_result",
          "data": {
            "text/plain": [
              "dict_keys(['loss', 'accuracy', 'val_loss', 'val_accuracy'])"
            ]
          },
          "metadata": {
            "tags": []
          },
          "execution_count": 49
        }
      ]
    },
    {
      "cell_type": "code",
      "metadata": {
        "id": "IDGEXgeakjIB",
        "colab": {
          "base_uri": "https://localhost:8080/",
          "height": 295
        },
        "outputId": "db2e410c-b65c-47d3-bbad-d13a5f70524b"
      },
      "source": [
        "loss_values = summary_l['loss']\n",
        "val_loss = summary_l['val_loss']\n",
        "epochs = range(1, 11)\n",
        "plt.plot(epochs, loss_values, 'bo', label = \"Training loss\")\n",
        "plt.plot(epochs, val_loss, 'ro', label = \"validation loss\")\n",
        "plt.title('Training & Validation loss for Tiny model')\n",
        "plt.xlabel('Epochs')\n",
        "plt.ylabel('Loss')\n",
        "plt.legend()\n",
        "plt.show()"
      ],
      "execution_count": null,
      "outputs": [
        {
          "output_type": "display_data",
          "data": {
            "image/png": "[encoded data removed]",
            "text/plain": [
              "<Figure size 432x288 with 1 Axes>"
            ]
          },
          "metadata": {
            "tags": [],
            "needs_background": "light"
          }
        }
      ]
    },
    {
      "cell_type": "code",
      "metadata": {
        "id": "RJ1LLc9lkoxT",
        "colab": {
          "base_uri": "https://localhost:8080/",
          "height": 69
        },
        "outputId": "8b8921c2-e9fa-4de5-e40a-9b8886824160"
      },
      "source": [
        "test_loss, acc_scr = large_model.evaluate(test_images, test_labels, verbose = 2)\n",
        "print(\"\\nTest Accuracy:\", acc_scr)"
      ],
      "execution_count": null,
      "outputs": [
        {
          "output_type": "stream",
          "text": [
            "313/313 - 1s - loss: 0.3676 - accuracy: 0.8771\n",
            "\n",
            "Test Accuracy: 0.8770999908447266\n"
          ],
          "name": "stdout"
        }
      ]
    },
    {
      "cell_type": "code",
      "metadata": {
        "id": "YnsxNM0R_-C6"
      },
      "source": [
        "probability_model_l = tf.keras.Sequential([large_model,\n",
        "                                         tf.keras.layers.Softmax()])"
      ],
      "execution_count": null,
      "outputs": []
    },
    {
      "cell_type": "code",
      "metadata": {
        "id": "4YP1doJu_-Sc"
      },
      "source": [
        "predictions_l = probability_model_l(test_images)"
      ],
      "execution_count": null,
      "outputs": []
    },
    {
      "cell_type": "code",
      "metadata": {
        "id": "ahku_PQHAMpK",
        "colab": {
          "base_uri": "https://localhost:8080/",
          "height": 35
        },
        "outputId": "2a977802-93b3-428e-d194-49831da25a04"
      },
      "source": [
        "np.argmax(predictions_l[2])"
      ],
      "execution_count": null,
      "outputs": [
        {
          "output_type": "execute_result",
          "data": {
            "text/plain": [
              "1"
            ]
          },
          "metadata": {
            "tags": []
          },
          "execution_count": 95
        }
      ]
    },
    {
      "cell_type": "code",
      "metadata": {
        "id": "uf90HvkDAM7E",
        "colab": {
          "base_uri": "https://localhost:8080/",
          "height": 35
        },
        "outputId": "1e3c8100-458c-4867-f08c-ca045977636f"
      },
      "source": [
        "test_labels[2]"
      ],
      "execution_count": null,
      "outputs": [
        {
          "output_type": "execute_result",
          "data": {
            "text/plain": [
              "1"
            ]
          },
          "metadata": {
            "tags": []
          },
          "execution_count": 96
        }
      ]
    },
    {
      "cell_type": "code",
      "metadata": {
        "id": "qB72-OXrkwZn"
      },
      "source": [
        "large_model2 = keras.Sequential([\n",
        "                          keras.layers.Flatten(input_shape=(28, 28)),\n",
        "                          keras.layers.Dense(512, activation=\"relu\",\n",
        "                                             kernel_regularizer=regularizers.l2(0.1)),\n",
        "                          keras.layers.Dense(10)\n",
        "])"
      ],
      "execution_count": null,
      "outputs": []
    },
    {
      "cell_type": "code",
      "metadata": {
        "id": "UP7LyWOslnds"
      },
      "source": [
        "large_model2.compile(optimizer='adam',\n",
        "                   loss = tf.keras.losses.SparseCategoricalCrossentropy(from_logits=True),\n",
        "                   metrics=['accuracy'])"
      ],
      "execution_count": null,
      "outputs": []
    },
    {
      "cell_type": "code",
      "metadata": {
        "id": "Fg_FhdTik-Ec",
        "colab": {
          "base_uri": "https://localhost:8080/",
          "height": 381
        },
        "outputId": "0f99695f-ff15-4b4e-eecf-bbfb082458a5"
      },
      "source": [
        "large_model2.fit(train_images, train_labels, epochs=10,validation_split=.2)"
      ],
      "execution_count": null,
      "outputs": [
        {
          "output_type": "stream",
          "text": [
            "Epoch 1/10\n",
            "1500/1500 [==============================] - 3s 2ms/step - loss: 1.9316 - accuracy: 0.7071 - val_loss: 0.9865 - val_accuracy: 0.7150\n",
            "Epoch 2/10\n",
            "1500/1500 [==============================] - 3s 2ms/step - loss: 0.9706 - accuracy: 0.7289 - val_loss: 0.9110 - val_accuracy: 0.7623\n",
            "Epoch 3/10\n",
            "1500/1500 [==============================] - 3s 2ms/step - loss: 0.9294 - accuracy: 0.7380 - val_loss: 0.8200 - val_accuracy: 0.7722\n",
            "Epoch 4/10\n",
            "1500/1500 [==============================] - 3s 2ms/step - loss: 0.8813 - accuracy: 0.7502 - val_loss: 0.9126 - val_accuracy: 0.7637\n",
            "Epoch 5/10\n",
            "1500/1500 [==============================] - 3s 2ms/step - loss: 0.8440 - accuracy: 0.7603 - val_loss: 0.9150 - val_accuracy: 0.7250\n",
            "Epoch 6/10\n",
            "1500/1500 [==============================] - 3s 2ms/step - loss: 0.8259 - accuracy: 0.7682 - val_loss: 0.8049 - val_accuracy: 0.7784\n",
            "Epoch 7/10\n",
            "1500/1500 [==============================] - 3s 2ms/step - loss: 0.8147 - accuracy: 0.7702 - val_loss: 0.8345 - val_accuracy: 0.7663\n",
            "Epoch 8/10\n",
            "1500/1500 [==============================] - 3s 2ms/step - loss: 0.8028 - accuracy: 0.7735 - val_loss: 0.7974 - val_accuracy: 0.7719\n",
            "Epoch 9/10\n",
            "1500/1500 [==============================] - 3s 2ms/step - loss: 0.7823 - accuracy: 0.7786 - val_loss: 0.7755 - val_accuracy: 0.7862\n",
            "Epoch 10/10\n",
            "1500/1500 [==============================] - 3s 2ms/step - loss: 0.7681 - accuracy: 0.7816 - val_loss: 0.7765 - val_accuracy: 0.7722\n"
          ],
          "name": "stdout"
        },
        {
          "output_type": "execute_result",
          "data": {
            "text/plain": [
              "<tensorflow.python.keras.callbacks.History at 0x7fab07bd3080>"
            ]
          },
          "metadata": {
            "tags": []
          },
          "execution_count": 54
        }
      ]
    },
    {
      "cell_type": "code",
      "metadata": {
        "id": "Hzj2fB5plhnD",
        "colab": {
          "base_uri": "https://localhost:8080/",
          "height": 35
        },
        "outputId": "0dfeb955-bf54-4826-e8df-6c17dc6d3203"
      },
      "source": [
        "summary_l2 = large_model2.history.history\n",
        "summary_l2.keys()"
      ],
      "execution_count": null,
      "outputs": [
        {
          "output_type": "execute_result",
          "data": {
            "text/plain": [
              "dict_keys(['loss', 'accuracy', 'val_loss', 'val_accuracy'])"
            ]
          },
          "metadata": {
            "tags": []
          },
          "execution_count": 55
        }
      ]
    },
    {
      "cell_type": "code",
      "metadata": {
        "id": "fqrFbi0jmA8z",
        "colab": {
          "base_uri": "https://localhost:8080/",
          "height": 295
        },
        "outputId": "bfa94de3-9b4c-4ca6-bcd0-5c9a5d58053e"
      },
      "source": [
        "loss_values = summary_l2['loss']\n",
        "val_loss = summary_l2['val_loss']\n",
        "epochs = range(1, 11)\n",
        "plt.plot(epochs, loss_values, 'bo', label = \"Training loss\")\n",
        "plt.plot(epochs, val_loss, 'ro', label = \"validation loss\")\n",
        "plt.title('Training & Validation loss for Tiny model')\n",
        "plt.xlabel('Epochs')\n",
        "plt.ylabel('Loss')\n",
        "plt.legend()\n",
        "plt.show()"
      ],
      "execution_count": null,
      "outputs": [
        {
          "output_type": "display_data",
          "data": {
            "image/png": "[encoded data removed]",
            "text/plain": [
              "<Figure size 432x288 with 1 Axes>"
            ]
          },
          "metadata": {
            "tags": [],
            "needs_background": "light"
          }
        }
      ]
    },
    {
      "cell_type": "code",
      "metadata": {
        "id": "CP24-GPemG1w",
        "colab": {
          "base_uri": "https://localhost:8080/",
          "height": 69
        },
        "outputId": "b37f4c26-a4b5-497f-ec9b-0c68aadff5d2"
      },
      "source": [
        "test_loss, acc_scr = large_model2.evaluate(test_images, test_labels, verbose = 2)\n",
        "print(\"\\nTest Accuracy after Regularization:\", acc_scr)"
      ],
      "execution_count": null,
      "outputs": [
        {
          "output_type": "stream",
          "text": [
            "313/313 - 1s - loss: 0.7952 - accuracy: 0.7646\n",
            "\n",
            "Test Accuracy after Regularization: 0.7645999789237976\n"
          ],
          "name": "stdout"
        }
      ]
    },
    {
      "cell_type": "code",
      "metadata": {
        "id": "gQF2hgc2mQkN"
      },
      "source": [
        "probability_model_l1 = tf.keras.Sequential([large_model2,\n",
        "                                         tf.keras.layers.Softmax()])"
      ],
      "execution_count": null,
      "outputs": []
    },
    {
      "cell_type": "code",
      "metadata": {
        "id": "vf6RR_qRAiZq"
      },
      "source": [
        "predictions_l2 = probability_model_l1(test_images)"
      ],
      "execution_count": null,
      "outputs": []
    },
    {
      "cell_type": "code",
      "metadata": {
        "id": "p0hoIurIA2N0",
        "colab": {
          "base_uri": "https://localhost:8080/",
          "height": 35
        },
        "outputId": "90dffcb5-5bd9-44a2-9963-8bbf817f359a"
      },
      "source": [
        "np.argmax(predictions_l2[121])"
      ],
      "execution_count": null,
      "outputs": [
        {
          "output_type": "execute_result",
          "data": {
            "text/plain": [
              "0"
            ]
          },
          "metadata": {
            "tags": []
          },
          "execution_count": 137
        }
      ]
    },
    {
      "cell_type": "code",
      "metadata": {
        "id": "KKgIqMPvAq-Q",
        "colab": {
          "base_uri": "https://localhost:8080/",
          "height": 35
        },
        "outputId": "0190d0ad-90ec-4d4c-87f3-ad0265568ce8"
      },
      "source": [
        "test_labels[121]"
      ],
      "execution_count": null,
      "outputs": [
        {
          "output_type": "execute_result",
          "data": {
            "text/plain": [
              "0"
            ]
          },
          "metadata": {
            "tags": []
          },
          "execution_count": 138
        }
      ]
    },
    {
      "cell_type": "code",
      "metadata": {
        "id": "o65tLOApA020"
      },
      "source": [
        ""
      ],
      "execution_count": null,
      "outputs": []
    }
  ]
}